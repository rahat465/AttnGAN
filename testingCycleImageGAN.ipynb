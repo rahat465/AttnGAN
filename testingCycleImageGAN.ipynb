{
  "cells": [
    {
      "cell_type": "markdown",
      "metadata": {
        "id": "view-in-github",
        "colab_type": "text"
      },
      "source": [
        "<a href=\"https://colab.research.google.com/github/rahat465/AttnGAN/blob/master/testingCycleImageGAN.ipynb\" target=\"_parent\"><img src=\"https://colab.research.google.com/assets/colab-badge.svg\" alt=\"Open In Colab\"/></a>"
      ]
    },
    {
      "cell_type": "code",
      "execution_count": 1,
      "metadata": {
        "colab": {
          "base_uri": "https://localhost:8080/"
        },
        "id": "L-cY4XUOPlPR",
        "outputId": "006e4611-3c9d-4e1e-fb01-d35c9ad8e89d"
      },
      "outputs": [
        {
          "output_type": "stream",
          "name": "stdout",
          "text": [
            "Mounted at /content/drive\n"
          ]
        }
      ],
      "source": [
        "from google.colab import drive\n",
        "drive.mount('/content/drive')"
      ]
    },
    {
      "cell_type": "code",
      "execution_count": null,
      "metadata": {
        "id": "lCoKYFgJPycN"
      },
      "outputs": [],
      "source": [
        "import shutil\n",
        "\n",
        "shutil.rmtree('/content/drive/MyDrive/AttnGAN/data/birds')"
      ]
    },
    {
      "cell_type": "code",
      "execution_count": null,
      "metadata": {
        "id": "7IlTK4x8RT7n"
      },
      "outputs": [],
      "source": [
        "shutil.rmtree('/content/drive/MyDrive/AttnGAN/models/bird_AttnGAN2')"
      ]
    },
    {
      "cell_type": "code",
      "execution_count": 2,
      "metadata": {
        "colab": {
          "base_uri": "https://localhost:8080/"
        },
        "id": "xohvqyemXYdF",
        "outputId": "b0ad53cb-9efc-474a-8973-65b91ea7bf14"
      },
      "outputs": [
        {
          "output_type": "stream",
          "name": "stdout",
          "text": [
            "Cloning into 'cycle-image-gan'...\n",
            "remote: Enumerating objects: 290, done.\u001b[K\n",
            "remote: Total 290 (delta 0), reused 0 (delta 0), pack-reused 290\u001b[K\n",
            "Receiving objects: 100% (290/290), 3.64 MiB | 12.69 MiB/s, done.\n",
            "Resolving deltas: 100% (166/166), done.\n"
          ]
        }
      ],
      "source": [
        "!git clone https://github.com/suetAndTie/cycle-image-gan.git"
      ]
    },
    {
      "cell_type": "code",
      "execution_count": null,
      "metadata": {
        "colab": {
          "base_uri": "https://localhost:8080/"
        },
        "id": "EKGCxj2aXsxx",
        "outputId": "f427efaf-26ee-4d52-e026-e40cd3bee78b"
      },
      "outputs": [
        {
          "name": "stdout",
          "output_type": "stream",
          "text": [
            "Archive:  /content/drive/MyDrive/download/birds.zip\n",
            "  inflating: /content/cycle-image-gan/data/birds/.DS_Store  \n",
            "   creating: /content/cycle-image-gan/data/__MACOSX/\n",
            "   creating: /content/cycle-image-gan/data/__MACOSX/birds/\n",
            "  inflating: /content/cycle-image-gan/data/__MACOSX/birds/._.DS_Store  \n",
            "replace /content/cycle-image-gan/data/birds/captions.pickle? [y]es, [n]o, [A]ll, [N]one, [r]ename: n\n",
            "  inflating: /content/cycle-image-gan/data/birds/example_captions.txt  \n",
            "  inflating: /content/cycle-image-gan/data/__MACOSX/birds/._example_captions.txt  \n",
            "  inflating: /content/cycle-image-gan/data/birds/example_filenames.txt  \n",
            "  inflating: /content/cycle-image-gan/data/birds/readme.txt  \n",
            "  inflating: /content/cycle-image-gan/data/__MACOSX/birds/._readme.txt  \n",
            "   creating: /content/cycle-image-gan/data/birds/test/\n",
            "  inflating: /content/cycle-image-gan/data/birds/test/.DS_Store  \n",
            "   creating: /content/cycle-image-gan/data/__MACOSX/birds/test/\n",
            "  inflating: /content/cycle-image-gan/data/__MACOSX/birds/test/._.DS_Store  \n",
            "  inflating: /content/cycle-image-gan/data/birds/test/class_info.pickle  \n",
            "  inflating: /content/cycle-image-gan/data/__MACOSX/birds/test/._class_info.pickle  \n",
            "  inflating: /content/cycle-image-gan/data/birds/test/filenames.pickle  \n",
            "  inflating: /content/cycle-image-gan/data/__MACOSX/birds/test/._filenames.pickle  \n",
            "  inflating: /content/cycle-image-gan/data/__MACOSX/birds/._test  \n",
            "  inflating: /content/cycle-image-gan/data/birds/text.zip  \n",
            "   creating: /content/cycle-image-gan/data/birds/train/\n",
            "  inflating: /content/cycle-image-gan/data/birds/train/class_info.pickle  \n",
            "   creating: /content/cycle-image-gan/data/__MACOSX/birds/train/\n",
            "  inflating: /content/cycle-image-gan/data/__MACOSX/birds/train/._class_info.pickle  \n",
            "  inflating: /content/cycle-image-gan/data/birds/train/filenames.pickle  \n",
            "  inflating: /content/cycle-image-gan/data/__MACOSX/birds/train/._filenames.pickle  \n"
          ]
        }
      ],
      "source": [
        "!unzip /content/drive/MyDrive/download/birds.zip -d /content/cycle-image-gan/data"
      ]
    },
    {
      "cell_type": "code",
      "execution_count": null,
      "metadata": {
        "colab": {
          "base_uri": "https://localhost:8080/"
        },
        "id": "zOMaKTKtcnAA",
        "outputId": "9bac15bd-f21d-40f0-81c0-3bc9c2e1cf1f"
      },
      "outputs": [
        {
          "name": "stdout",
          "output_type": "stream",
          "text": [
            "/content/cycle-image-gan/data/birds\n"
          ]
        }
      ],
      "source": [
        "%cd /content/cycle-image-gan/data/birds"
      ]
    },
    {
      "cell_type": "code",
      "execution_count": null,
      "metadata": {
        "id": "VUx1q1cZb97-"
      },
      "outputs": [],
      "source": [
        "!tar -xf /content/drive/MyDrive/kaggledataset/CUB_200_2011.tgz"
      ]
    },
    {
      "cell_type": "code",
      "execution_count": null,
      "metadata": {
        "colab": {
          "base_uri": "https://localhost:8080/"
        },
        "id": "H4H0u_gBeJqc",
        "outputId": "82514873-a80f-4367-c650-3c5b6d082c4f"
      },
      "outputs": [
        {
          "name": "stdout",
          "output_type": "stream",
          "text": [
            "/content/cycle-image-gan\n"
          ]
        }
      ],
      "source": [
        "%cd /content/cycle-image-gan"
      ]
    },
    {
      "cell_type": "code",
      "execution_count": null,
      "metadata": {
        "colab": {
          "base_uri": "https://localhost:8080/"
        },
        "id": "VyVsVz2O9GGn",
        "outputId": "62a424ae-7167-4690-af8a-9bc1686c2629"
      },
      "outputs": [
        {
          "name": "stdout",
          "output_type": "stream",
          "text": [
            "Looking in indexes: https://pypi.org/simple, https://us-python.pkg.dev/colab-wheels/public/simple/\n",
            "Collecting pytorch-pretrained-bert\n",
            "  Downloading pytorch_pretrained_bert-0.6.2-py3-none-any.whl (123 kB)\n",
            "\u001b[K     |████████████████████████████████| 123 kB 29.7 MB/s \n",
            "\u001b[?25hCollecting boto3\n",
            "  Downloading boto3-1.24.49-py3-none-any.whl (132 kB)\n",
            "\u001b[K     |████████████████████████████████| 132 kB 62.6 MB/s \n",
            "\u001b[?25hRequirement already satisfied: torch>=0.4.1 in /usr/local/lib/python3.7/dist-packages (from pytorch-pretrained-bert) (1.12.0+cu113)\n",
            "Requirement already satisfied: requests in /usr/local/lib/python3.7/dist-packages (from pytorch-pretrained-bert) (2.23.0)\n",
            "Requirement already satisfied: regex in /usr/local/lib/python3.7/dist-packages (from pytorch-pretrained-bert) (2022.6.2)\n",
            "Requirement already satisfied: numpy in /usr/local/lib/python3.7/dist-packages (from pytorch-pretrained-bert) (1.21.6)\n",
            "Requirement already satisfied: tqdm in /usr/local/lib/python3.7/dist-packages (from pytorch-pretrained-bert) (4.64.0)\n",
            "Requirement already satisfied: typing-extensions in /usr/local/lib/python3.7/dist-packages (from torch>=0.4.1->pytorch-pretrained-bert) (4.1.1)\n",
            "Collecting s3transfer<0.7.0,>=0.6.0\n",
            "  Downloading s3transfer-0.6.0-py3-none-any.whl (79 kB)\n",
            "\u001b[K     |████████████████████████████████| 79 kB 7.5 MB/s \n",
            "\u001b[?25hCollecting botocore<1.28.0,>=1.27.49\n",
            "  Downloading botocore-1.27.49-py3-none-any.whl (9.0 MB)\n",
            "\u001b[K     |████████████████████████████████| 9.0 MB 57.4 MB/s \n",
            "\u001b[?25hCollecting jmespath<2.0.0,>=0.7.1\n",
            "  Downloading jmespath-1.0.1-py3-none-any.whl (20 kB)\n",
            "Requirement already satisfied: python-dateutil<3.0.0,>=2.1 in /usr/local/lib/python3.7/dist-packages (from botocore<1.28.0,>=1.27.49->boto3->pytorch-pretrained-bert) (2.8.2)\n",
            "Collecting urllib3<1.27,>=1.25.4\n",
            "  Downloading urllib3-1.26.11-py2.py3-none-any.whl (139 kB)\n",
            "\u001b[K     |████████████████████████████████| 139 kB 66.6 MB/s \n",
            "\u001b[?25hRequirement already satisfied: six>=1.5 in /usr/local/lib/python3.7/dist-packages (from python-dateutil<3.0.0,>=2.1->botocore<1.28.0,>=1.27.49->boto3->pytorch-pretrained-bert) (1.15.0)\n",
            "Requirement already satisfied: certifi>=2017.4.17 in /usr/local/lib/python3.7/dist-packages (from requests->pytorch-pretrained-bert) (2022.6.15)\n",
            "Requirement already satisfied: chardet<4,>=3.0.2 in /usr/local/lib/python3.7/dist-packages (from requests->pytorch-pretrained-bert) (3.0.4)\n",
            "Requirement already satisfied: idna<3,>=2.5 in /usr/local/lib/python3.7/dist-packages (from requests->pytorch-pretrained-bert) (2.10)\n",
            "  Downloading urllib3-1.25.11-py2.py3-none-any.whl (127 kB)\n",
            "\u001b[K     |████████████████████████████████| 127 kB 72.2 MB/s \n",
            "\u001b[?25hInstalling collected packages: urllib3, jmespath, botocore, s3transfer, boto3, pytorch-pretrained-bert\n",
            "  Attempting uninstall: urllib3\n",
            "    Found existing installation: urllib3 1.24.3\n",
            "    Uninstalling urllib3-1.24.3:\n",
            "      Successfully uninstalled urllib3-1.24.3\n",
            "Successfully installed boto3-1.24.49 botocore-1.27.49 jmespath-1.0.1 pytorch-pretrained-bert-0.6.2 s3transfer-0.6.0 urllib3-1.25.11\n"
          ]
        }
      ],
      "source": [
        "!pip install pytorch-pretrained-bert"
      ]
    },
    {
      "cell_type": "code",
      "execution_count": null,
      "metadata": {
        "colab": {
          "background_save": true,
          "base_uri": "https://localhost:8080/"
        },
        "id": "_AojQFh2eNGq",
        "outputId": "e1c15dcd-2bc5-4d26-9427-739bcfe68661"
      },
      "outputs": [
        {
          "name": "stdout",
          "output_type": "stream",
          "text": [
            "Using config:\n",
            "{'B_VALIDATION': False,\n",
            " 'CNN_RNN': {'HIDDEN_DIM': 256},\n",
            " 'CONFIG_NAME': 'STREAM',\n",
            " 'CUDA': True,\n",
            " 'DATASET_NAME': 'birds',\n",
            " 'DATA_DIR': 'data/birds',\n",
            " 'GAN': {'B_ATTENTION': True,\n",
            "         'B_DCGAN': False,\n",
            "         'CONDITION_DIM': 100,\n",
            "         'DF_DIM': 64,\n",
            "         'GF_DIM': 128,\n",
            "         'R_NUM': 2,\n",
            "         'Z_DIM': 100},\n",
            " 'GPU_ID': 0,\n",
            " 'RNN_TYPE': 'LSTM',\n",
            " 'TEXT': {'CAPTIONS_PER_IMAGE': 10, 'EMBEDDING_DIM': 768, 'WORDS_NUM': 18},\n",
            " 'TRAIN': {'BATCH_SIZE': 48,\n",
            "           'B_NET_D': True,\n",
            "           'DISCRIMINATOR_LR': 0.0002,\n",
            "           'ENCODER_LR': 0.002,\n",
            "           'FLAG': True,\n",
            "           'GENERATOR_LR': 0.0002,\n",
            "           'MAX_EPOCH': 2,\n",
            "           'NET_E': '',\n",
            "           'NET_G': '',\n",
            "           'RNN_GRAD_CLIP': 0.25,\n",
            "           'SMOOTH': {'GAMMA1': 4.0,\n",
            "                      'GAMMA2': 5.0,\n",
            "                      'GAMMA3': 10.0,\n",
            "                      'LAMBDA': 1.0},\n",
            "           'SNAPSHOT_INTERVAL': 50,\n",
            "           'TRAINER': 'condGANTrainer'},\n",
            " 'TREE': {'BASE_SIZE': 299, 'BRANCH_NUM': 1},\n",
            " 'WORKERS': 4}\n",
            "Total filenames:  11788 001.Black_footed_Albatross/Black_Footed_Albatross_0046_18.jpg\n",
            "Load filenames from: data/birds/train/filenames.pickle (8855)\n",
            "Load filenames from: data/birds/test/filenames.pickle (2933)\n",
            "Load from:  data/birds/captions.pickle\n",
            "5450 10\n",
            "/usr/local/lib/python3.7/dist-packages/torch/utils/data/dataloader.py:560: UserWarning: This DataLoader will create 4 worker processes in total. Our suggested max number of worker in current system is 2, which is smaller than what this DataLoader is going to create. Please be aware that excessive worker creation might get DataLoader running slow or even freeze, lower the worker number to avoid potential slowness/freeze if necessary.\n",
            "  cpuset_checked))\n",
            "Total filenames:  11788 001.Black_footed_Albatross/Black_Footed_Albatross_0046_18.jpg\n",
            "Load filenames from: data/birds/train/filenames.pickle (8855)\n",
            "Load filenames from: data/birds/test/filenames.pickle (2933)\n",
            "Load from:  data/birds/captions.pickle\n",
            "text encoder is called ------>>>>>B_rrn_e\n",
            "in the bert_rnn_encoder\n",
            "bert_rnn_encoder ---->> LSTM\n",
            "/usr/local/lib/python3.7/dist-packages/torch/nn/modules/rnn.py:65: UserWarning: dropout option adds dropout after all but last recurrent layer, so non-zero dropout expects num_layers greater than 1, but got dropout=0.5 and num_layers=1\n",
            "  \"num_layers={}\".format(dropout, num_layers))\n",
            "in the image encoder------>>>>>-----\n",
            "IN the CNN_encoder to load inception v3\n",
            "/usr/local/lib/python3.7/dist-packages/torchvision/models/inception.py:47: FutureWarning: The default weight initialization of inception_v3 will be changed in future releases of torchvision. If you wish to keep the old behavior (which leads to long initialization times due to scipy/scipy#11299), please set init_weights=True.\n",
            "  FutureWarning,\n",
            "Load pretrained model from  https://download.pytorch.org/models/inception_v3_google-1a9a5a14.pth\n",
            "/content/cycle-image-gan/miscc/losses.py:135: UserWarning: masked_fill_ received a mask with dtype torch.uint8, this behavior is now deprecated,please use a mask with dtype torch.bool instead. (Triggered internally at  ../aten/src/ATen/native/cuda/Indexing.cu:1239.)\n",
            "  similarities.data.masked_fill_(masks, -float('inf'))\n",
            "/content/cycle-image-gan/miscc/losses.py:62: UserWarning: masked_fill_ received a mask with dtype torch.uint8, this behavior is now deprecated,please use a mask with dtype torch.bool instead. (Triggered internally at  ../aten/src/ATen/native/cuda/Indexing.cu:1239.)\n",
            "  scores0.data.masked_fill_(masks, -float('inf'))\n",
            "| epoch   0 |     0/  184 batches | ms/batch 32.99 | s_loss  0.02  0.02 | w_loss  0.03  0.02 | t_loss  0.04\n",
            "-----------------------------------------------------------------------------------------\n",
            "| end epoch   0 | valid loss  7.49  7.53  0.82 | lr 0.00200|\n",
            "-----------------------------------------------------------------------------------------\n",
            "Save G/Ds models.\n",
            "| epoch   1 |     0/  184 batches | ms/batch 13.69 | s_loss  0.02  0.02 | w_loss  0.02  0.02 | t_loss  0.00\n",
            "-----------------------------------------------------------------------------------------\n",
            "| end epoch   1 | valid loss  7.30  7.32  0.57 | lr 0.00196|\n",
            "-----------------------------------------------------------------------------------------\n"
          ]
        }
      ],
      "source": [
        "!python pretrain_STREAM.py --cfg cfg/STREAM/bird.yaml --gpu 0"
      ]
    },
    {
      "cell_type": "code",
      "execution_count": null,
      "metadata": {
        "id": "-idJAhP4EsKb"
      },
      "outputs": [],
      "source": [
        "!python main.py --cfg cfg/bird_cycle.yaml --gpu 0"
      ]
    }
  ],
  "metadata": {
    "colab": {
      "collapsed_sections": [],
      "name": "testingCycleImageGAN.ipynb",
      "provenance": [],
      "authorship_tag": "ABX9TyPkFcPv4MOHzc/1jM3tXFNs",
      "include_colab_link": true
    },
    "gpuClass": "standard",
    "kernelspec": {
      "display_name": "Python 3",
      "name": "python3"
    },
    "language_info": {
      "name": "python"
    }
  },
  "nbformat": 4,
  "nbformat_minor": 0
}